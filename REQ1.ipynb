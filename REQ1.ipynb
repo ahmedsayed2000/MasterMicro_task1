{
 "cells": [
  {
   "cell_type": "markdown",
   "id": "43645c76",
   "metadata": {},
   "source": [
    "# Finction Plotter Program"
   ]
  },
  {
   "cell_type": "markdown",
   "id": "f41d16a2",
   "metadata": {},
   "source": [
    "## Needed Libraries"
   ]
  },
  {
   "cell_type": "code",
   "execution_count": 61,
   "id": "ea694af1",
   "metadata": {},
   "outputs": [],
   "source": [
    "import numpy as np\n",
    "import matplotlib.pyplot as plt\n",
    "from matplotlib.backends.backend_tkagg import FigureCanvasTkAgg\n",
    "import tkinter.font as tkFont\n",
    "from tkinter import *\n",
    "from tkinter import messagebox"
   ]
  },
  {
   "cell_type": "markdown",
   "id": "596e0c55",
   "metadata": {},
   "source": [
    "## Initializing tkinter window "
   ]
  },
  {
   "cell_type": "code",
   "execution_count": 62,
   "id": "fd6a2485",
   "metadata": {},
   "outputs": [],
   "source": [
    "root = Tk()\n",
    "root.geometry(\"1500x600\")\n",
    "root.title(\"Function Plotter\")\n",
    "\n",
    "\n",
    "# function entry\n",
    "function_entry = Entry(root, width=50)\n",
    "# placing the function entry in the grid\n",
    "function_entry.grid(row= 1, column= 5)\n",
    "# configure font size\n",
    "function_entry.configure(font=tkFont.Font(size = 16, weight = \"normal\"))\n",
    "\n",
    "\n",
    "\n",
    "# min x entry\n",
    "min_entry = Entry(root, width=50)\n",
    "# placing the min entry in the grid\n",
    "min_entry.configure(font=tkFont.Font(size = 16, weight = \"normal\"))\n",
    "# configure font size\n",
    "min_entry.grid(row=3, column=5)\n",
    "\n",
    "\n",
    "# max x entry\n",
    "max_entry = Entry(root, width=50)\n",
    "# placing the max entry in the grid\n",
    "max_entry.configure(font=tkFont.Font(size = 16, weight = \"normal\"))\n",
    "# configure font size\n",
    "max_entry.grid(row=5, column=5)\n",
    "\n"
   ]
  },
  {
   "cell_type": "markdown",
   "id": "5a47c0d8",
   "metadata": {},
   "source": [
    "## functions that will be used"
   ]
  },
  {
   "cell_type": "code",
   "execution_count": 63,
   "id": "31060acc",
   "metadata": {},
   "outputs": [],
   "source": [
    "# this function uses matplot library to plot x vector and y vector\n",
    "def plot(x, y):\n",
    "    fig = plt.Figure(figsize=(6,4), dpi=100)\n",
    "    ax = fig.add_subplot()\n",
    "    ax.plot(x,y, color = 'g')\n",
    "    canvas = FigureCanvasTkAgg(fig, root) \n",
    "    can1 = canvas.get_tk_widget()\n",
    "    can1.place(height=500,x=800,y=1) \n",
    "    ax.axhline(y=0, color='black')\n",
    "    ax.axvline(x=0, color='black')\n",
    "    ax.grid(color='black',linewidth=0.1)"
   ]
  },
  {
   "cell_type": "code",
   "execution_count": 64,
   "id": "4c665622",
   "metadata": {},
   "outputs": [],
   "source": [
    "# this function formats the string by removing blank spaces from the start, end and within the given string\n",
    "# it also turns the string to lower case to avoid mismatching\n",
    "# it also replaces the power sign (^) by the real one used in python (**)\n",
    "def formatString(function):\n",
    "    function = function.lower()\n",
    "    function = function.strip()\n",
    "    function = function.replace(\" \", \"\")\n",
    "    function = function.replace(\"^\", \"**\")\n",
    "    return function"
   ]
  },
  {
   "cell_type": "code",
   "execution_count": 65,
   "id": "3a8dfe8c",
   "metadata": {},
   "outputs": [],
   "source": [
    "# this function get the (y) vector from the equation and (x) vector\n",
    "def gety(function, x):\n",
    "    y = []\n",
    "    for element in x:\n",
    "        y.append(eval(function, {}, {\"x\" : element}))\n",
    "    return y"
   ]
  },
  {
   "cell_type": "code",
   "execution_count": 66,
   "id": "df02c3ce",
   "metadata": {},
   "outputs": [],
   "source": [
    "# this function searches for dot (.) in the given string \n",
    "def searchForDot(limit):\n",
    "    # search for the index of the dot operator\n",
    "    # if its negative then return false as it is not a numeric string\n",
    "    first_index = limit.find(\".\")\n",
    "    if first_index == -1:\n",
    "        return False\n",
    "    else:\n",
    "        # search for last index of dot operator\n",
    "        last_index = limit.rfind(\".\")\n",
    "        # if last index not equals first index then there are 2 dots (..) and this is not a numeric string\n",
    "        if last_index != first_index:\n",
    "            return False\n",
    "        # if last index equals first index then check that the rest of the string is numeric \n",
    "        # after replacing the dot opretator with blank space\n",
    "        elif not limit.replace(\".\", \"\").isnumeric():\n",
    "            return False\n",
    "        # now it is a numeric string for sure\n",
    "        else:\n",
    "            return True"
   ]
  },
  {
   "cell_type": "code",
   "execution_count": 67,
   "id": "c263bcdb",
   "metadata": {},
   "outputs": [],
   "source": [
    "# this method checks if the given string is numeric or numeric but has negative sign \n",
    "# or it is a float number so it has a dot which is not numeric\n",
    "def checkRange(limit):\n",
    "    # check if the given string is numeric\n",
    "    if limit.isnumeric():\n",
    "        return True\n",
    "     # check if the given string is starts with neg sign (-)\n",
    "    if limit.startswith(\"-\"):\n",
    "        # check if the rest of the string is numeric\n",
    "        # if true then it is a numeric string\n",
    "        if limit[1:].isnumeric():\n",
    "            return True\n",
    "        # if false then check if the rest of the string has a dot, which is the only remaining case\n",
    "        else:\n",
    "            return searchForDot(limit[1:])\n",
    "    \n",
    "    else:\n",
    "        return searchForDot(limit)\n",
    "            "
   ]
  },
  {
   "cell_type": "code",
   "execution_count": 68,
   "id": "e10d42e3",
   "metadata": {},
   "outputs": [],
   "source": [
    "# this function is used to validate the min and max range by the help of checkRange() method\n",
    "def validateRange():\n",
    "    # get the min and max strings from their entries\n",
    "    lower_limit = min_entry.get()\n",
    "    upper_limit = max_entry.get()\n",
    "\n",
    "    # applying lower case and stripping to remove blank spaces\n",
    "    lower_limit =  lower_limit.strip()\n",
    "    lower_limit =  lower_limit.replace(\" \", \"\")\n",
    "    upper_limit =  upper_limit.strip()\n",
    "    upper_limit =  upper_limit.replace(\" \", \"\")\n",
    "    \n",
    "    # check if the min and max ranges are numbers or otherwise\n",
    "    # if (true) then convert them to float and return done if the upper limit is larger than the lower limit\n",
    "    # return a warning message if they are not numeric or the upper is smaller than the lower \n",
    "    if checkRange(lower_limit) and checkRange(upper_limit):\n",
    "        start = float(lower_limit)\n",
    "        end = float(upper_limit)\n",
    "        if(end < start):\n",
    "            return \"the lower limit is larger than the upper limit\"\n",
    "        else:\n",
    "            return \"done\"\n",
    "    else:\n",
    "        return \"error in the limits \\n make sure that the limits are only numbers \""
   ]
  },
  {
   "cell_type": "code",
   "execution_count": 69,
   "id": "dd1ab0a7",
   "metadata": {},
   "outputs": [],
   "source": [
    "# this function is called is an event for pressing the submit button\n",
    "def submitFunction():\n",
    "    function = function_entry.get()\n",
    "    function = formatString(function)\n",
    "    message = validateRange()\n",
    "    print(message)\n",
    "    if message != \"done\":\n",
    "        messagebox.showerror(\"showerror\", message)\n",
    "    else:\n",
    "        start, end = float(min_entry.get().strip().replace(\" \", \"\")), float(max_entry.get().strip().replace(\" \", \"\"))\n",
    "        x = np.asarray(np.linspace(start = start, stop = end + 1))\n",
    "        try:\n",
    "            y = gety(function, x)\n",
    "            plot(x, y)\n",
    "        except:\n",
    "            messagebox.showerror(\"showerror\", \"Error in the submitted equation or in the ranges \\n please also try to avoid numbers that lead to infinity in the equation\")"
   ]
  },
  {
   "cell_type": "code",
   "execution_count": 70,
   "id": "95913eb0",
   "metadata": {},
   "outputs": [
    {
     "name": "stdout",
     "output_type": "stream",
     "text": [
      "error in the limits \n",
      " make sure that the limits are only numbers \n"
     ]
    }
   ],
   "source": [
    "\n",
    "# function label\n",
    "function_label = Label(root, text = \"Insert the function\", bg=\"#34e8eb\")\n",
    "function_label.grid(row=0, column=5, pady=10)\n",
    "function_label.configure(font=tkFont.Font(size = 12, weight = \"normal\"))\n",
    "\n",
    "\n",
    "\n",
    "\n",
    "# min x label\n",
    "min_label = Label(root, text = \"Enter min x\", bg=\"#34e8eb\")\n",
    "min_label.grid(row=2, column=5,pady=10)\n",
    "min_label.configure(font=tkFont.Font(size = 12, weight = \"normal\"))\n",
    "\n",
    "\n",
    "# max x label\n",
    "max_label = Label(root, text = \"Enter max x\", bg=\"#34e8eb\")\n",
    "max_label.grid(row=4, column=5, pady=10)\n",
    "max_label.configure(font=tkFont.Font(size = 12, weight = \"normal\"))\n",
    "\n",
    "\n",
    "\n",
    "# submit button\n",
    "submit_button = Button(root, text = \"submit\", command = submitFunction, bg=\"#3483eb\").grid(row=6, column= 5, ipadx=80, ipady=10, padx=10, pady=20)\n",
    "\n",
    "\n",
    "\n",
    "root.mainloop()"
   ]
  },
  {
   "cell_type": "code",
   "execution_count": null,
   "id": "a456de74",
   "metadata": {},
   "outputs": [],
   "source": []
  }
 ],
 "metadata": {
  "interpreter": {
   "hash": "ff4f85d6e04298634172ac5d8264e7e9b556b95639fe52ebb9425c4d4cba0c9c"
  },
  "kernelspec": {
   "display_name": "Python 3.8.8 ('base')",
   "language": "python",
   "name": "python3"
  },
  "language_info": {
   "codemirror_mode": {
    "name": "ipython",
    "version": 3
   },
   "file_extension": ".py",
   "mimetype": "text/x-python",
   "name": "python",
   "nbconvert_exporter": "python",
   "pygments_lexer": "ipython3",
   "version": "3.8.8"
  }
 },
 "nbformat": 4,
 "nbformat_minor": 5
}
