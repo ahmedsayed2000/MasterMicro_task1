{
 "cells": [
  {
   "cell_type": "code",
   "execution_count": null,
   "id": "ea694af1",
   "metadata": {},
   "outputs": [],
   "source": [
    "import numpy as np\n",
    "import matplotlib.pyplot as plt\n",
    "from tkinter import *"
   ]
  },
  {
   "cell_type": "markdown",
   "id": "7cff2133",
   "metadata": {},
   "source": [
    "### GUI"
   ]
  },
  {
   "cell_type": "code",
   "execution_count": 36,
   "id": "31060acc",
   "metadata": {},
   "outputs": [],
   "source": [
    "def plot(x, y, function):\n",
    "    # [color][marker][line]\n",
    "    plt.plot(x, y, \"b^--\", label = function)\n",
    "    plt.title(\"Graph\")\n",
    "    plt.xlabel(\"X axis\")\n",
    "    plt.ylabel(\"Y axis\")\n",
    "    \n",
    "    \n",
    "    plt.legend()\n",
    "    plt.show()"
   ]
  },
  {
   "cell_type": "code",
   "execution_count": 39,
   "id": "4c665622",
   "metadata": {},
   "outputs": [],
   "source": [
    "def formatString(function):\n",
    "    function = function.lower()\n",
    "    function = function.strip()\n",
    "    function = function.replace(\" \", \"\")\n",
    "    function = function.replace(\"^\", \"**\")\n",
    "    return function"
   ]
  },
  {
   "cell_type": "code",
   "execution_count": 73,
   "id": "95913eb0",
   "metadata": {},
   "outputs": [
    {
     "name": "stdout",
     "output_type": "stream",
     "text": [
      "done\n",
      "[0.         0.12244898 0.24489796 0.36734694 0.48979592 0.6122449\n",
      " 0.73469388 0.85714286 0.97959184 1.10204082 1.2244898  1.34693878\n",
      " 1.46938776 1.59183673 1.71428571 1.83673469 1.95918367 2.08163265\n",
      " 2.20408163 2.32653061 2.44897959 2.57142857 2.69387755 2.81632653\n",
      " 2.93877551 3.06122449 3.18367347 3.30612245 3.42857143 3.55102041\n",
      " 3.67346939 3.79591837 3.91836735 4.04081633 4.16326531 4.28571429\n",
      " 4.40816327 4.53061224 4.65306122 4.7755102  4.89795918 5.02040816\n",
      " 5.14285714 5.26530612 5.3877551  5.51020408 5.63265306 5.75510204\n",
      " 5.87755102 6.        ] 0.0 5.0\n",
      "error in the entered function\n",
      "done\n",
      "[0.         0.12244898 0.24489796 0.36734694 0.48979592 0.6122449\n",
      " 0.73469388 0.85714286 0.97959184 1.10204082 1.2244898  1.34693878\n",
      " 1.46938776 1.59183673 1.71428571 1.83673469 1.95918367 2.08163265\n",
      " 2.20408163 2.32653061 2.44897959 2.57142857 2.69387755 2.81632653\n",
      " 2.93877551 3.06122449 3.18367347 3.30612245 3.42857143 3.55102041\n",
      " 3.67346939 3.79591837 3.91836735 4.04081633 4.16326531 4.28571429\n",
      " 4.40816327 4.53061224 4.65306122 4.7755102  4.89795918 5.02040816\n",
      " 5.14285714 5.26530612 5.3877551  5.51020408 5.63265306 5.75510204\n",
      " 5.87755102 6.        ] 0.0 5.0\n",
      "error in the entered function\n",
      "done\n",
      "[0.         0.12244898 0.24489796 0.36734694 0.48979592 0.6122449\n",
      " 0.73469388 0.85714286 0.97959184 1.10204082 1.2244898  1.34693878\n",
      " 1.46938776 1.59183673 1.71428571 1.83673469 1.95918367 2.08163265\n",
      " 2.20408163 2.32653061 2.44897959 2.57142857 2.69387755 2.81632653\n",
      " 2.93877551 3.06122449 3.18367347 3.30612245 3.42857143 3.55102041\n",
      " 3.67346939 3.79591837 3.91836735 4.04081633 4.16326531 4.28571429\n",
      " 4.40816327 4.53061224 4.65306122 4.7755102  4.89795918 5.02040816\n",
      " 5.14285714 5.26530612 5.3877551  5.51020408 5.63265306 5.75510204\n",
      " 5.87755102 6.        ] 0.0 5.0\n"
     ]
    },
    {
     "data": {
      "image/png": "[encoded data removed]",
      "text/plain": [
       "<Figure size 432x288 with 1 Axes>"
      ]
     },
     "metadata": {
      "needs_background": "light"
     },
     "output_type": "display_data"
    }
   ],
   "source": [
    "root = Tk()\n",
    "root.geometry(\"500x500\")\n",
    "root.title(\"Function Plotter\")\n",
    "\n",
    "# function label\n",
    "function_label = Label(root, text = \"insert the function\")\n",
    "function_label.place(x = 5, y = 10)\n",
    "\n",
    "# function entry\n",
    "function_entry = Entry(root, width = 50)\n",
    "function_entry.place(x = 5, y = 40)\n",
    "function_entry.insert(0, \"the function is ......\")\n",
    "\n",
    "\n",
    "\n",
    "# min x label\n",
    "min_label = Label(root, text = \"enter min x\")\n",
    "min_label.place(x = 5, y = 90)\n",
    "\n",
    "# min x entry\n",
    "min_entry = Entry(root, width = 10)\n",
    "min_entry.place(x = 5, y = 110)\n",
    "min_entry.insert(0, \"min x is ..\")\n",
    "\n",
    "# max x label\n",
    "max_label = Label(root, text = \"enter max x\")\n",
    "max_label.place(x = 80, y = 90)\n",
    "\n",
    "# max x entry\n",
    "max_entry = Entry(root, width = 10)\n",
    "max_entry.place(x = 80 , y = 110)\n",
    "max_entry.insert(0, \"max x is ..\")\n",
    "\n",
    "\n",
    "# submit button\n",
    "submit_button = Button(root, text = \"submit\", command = submitFunction).place(x = 110, y = 150)\n",
    "\n",
    "\n",
    "# error label\n",
    "error_label = Label(root, text = \"error area\")\n",
    "error_label.place(x = 90, y = 180)\n",
    "\n",
    "root.mainloop()"
   ]
  },
  {
   "cell_type": "code",
   "execution_count": 71,
   "id": "3a8dfe8c",
   "metadata": {},
   "outputs": [],
   "source": [
    "def gety(function, x):\n",
    "    y = []\n",
    "    for element in x:\n",
    "        y.append(eval(function, {}, {\"x\" : element}))\n",
    "    return y"
   ]
  },
  {
   "cell_type": "code",
   "execution_count": 56,
   "id": "df02c3ce",
   "metadata": {},
   "outputs": [],
   "source": [
    "def searchForDot(limit):\n",
    "    first_index = limit.find(\".\")\n",
    "    if first_index == -1:\n",
    "        return False\n",
    "    else:\n",
    "        last_index = limit.rfind(\".\")\n",
    "        if last_index != first_index:\n",
    "            return False\n",
    "        elif not limit.replace(\".\", \"\").isnumeric():\n",
    "            return False\n",
    "        else:\n",
    "            return True"
   ]
  },
  {
   "cell_type": "code",
   "execution_count": 63,
   "id": "c263bcdb",
   "metadata": {},
   "outputs": [],
   "source": [
    "def checkRange(limit):\n",
    "    if limit.isnumeric():\n",
    "        return True\n",
    "    \n",
    "    if limit.startswith(\"-\"):\n",
    "        if limit[1:].isnumeric():\n",
    "            return True\n",
    "        else:\n",
    "            return searchForDot(limit[1:])\n",
    "    \n",
    "    else:\n",
    "        return searchForDot(limit)\n",
    "            "
   ]
  },
  {
   "cell_type": "code",
   "execution_count": 58,
   "id": "e10d42e3",
   "metadata": {},
   "outputs": [],
   "source": [
    "def validateRange():\n",
    "    lower_limit = min_entry.get()\n",
    "    upper_limit = max_entry.get()\n",
    "    if checkRange(lower_limit) and checkRange(upper_limit):\n",
    "        start = float(lower_limit)\n",
    "        end = float(upper_limit)\n",
    "        if(end < start):\n",
    "            return \"the lower limit is larger than the upper limit\"\n",
    "        else:\n",
    "            return \"done\"\n",
    "    else:\n",
    "        return \"error in the limits of the graph\""
   ]
  },
  {
   "cell_type": "code",
   "execution_count": 72,
   "id": "dd1ab0a7",
   "metadata": {},
   "outputs": [],
   "source": [
    "def submitFunction():\n",
    "    function = function_entry.get()\n",
    "    function = formatString(function)\n",
    "    message = validateRange()\n",
    "    print(message)\n",
    "    if message != \"done\":\n",
    "        error_label.text = message\n",
    "    else:\n",
    "        start, end = float(min_entry.get()), float(max_entry.get())\n",
    "        x = np.asarray(np.linspace(start = start, stop = end + 1))\n",
    "        print(x, start, end)\n",
    "        try:\n",
    "            y = gety(function, x)\n",
    "            plot(x, y, function)\n",
    "        except:\n",
    "            print(\"error in the entered function\")"
   ]
  },
  {
   "cell_type": "code",
   "execution_count": null,
   "id": "a456de74",
   "metadata": {},
   "outputs": [],
   "source": []
  }
 ],
 "metadata": {
  "kernelspec": {
   "display_name": "Python 3",
   "language": "python",
   "name": "python3"
  },
  "language_info": {
   "codemirror_mode": {
    "name": "ipython",
    "version": 3
   },
   "file_extension": ".py",
   "mimetype": "text/x-python",
   "name": "python",
   "nbconvert_exporter": "python",
   "pygments_lexer": "ipython3",
   "version": "3.8.8"
  }
 },
 "nbformat": 4,
 "nbformat_minor": 5
}
